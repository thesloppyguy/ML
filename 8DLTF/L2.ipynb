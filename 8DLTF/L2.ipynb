{
 "cells": [
  {
   "cell_type": "code",
   "execution_count": 2,
   "source": [
    "import pandas as pd\r\n",
    "import numpy as np\r\n",
    "import matplotlib.pyplot as plt\r\n",
    "from tensorflow import keras\r\n",
    "import tensorflow as tf"
   ],
   "outputs": [],
   "metadata": {}
  },
  {
   "cell_type": "code",
   "execution_count": 3,
   "source": [
    "dataset =  keras.datasets.fashion_mnist"
   ],
   "outputs": [],
   "metadata": {}
  },
  {
   "cell_type": "code",
   "execution_count": 4,
   "source": [
    "(train_images,train_labels),(test_images,test_labels) = dataset.load_data()"
   ],
   "outputs": [],
   "metadata": {}
  },
  {
   "cell_type": "code",
   "execution_count": 6,
   "source": [
    "model = keras.Sequential(\r\n",
    "    [\r\n",
    "        keras.layers.Flatten(input_shape=(28,28)),\r\n",
    "        keras.layers.Dense(128,'relu'),\r\n",
    "        keras.layers.Dense(10,'softmax')\r\n",
    "    ]\r\n",
    ")"
   ],
   "outputs": [],
   "metadata": {}
  },
  {
   "cell_type": "code",
   "execution_count": 7,
   "source": [
    "model.compile(optimizer='adam',\r\n",
    "              loss='sparse_categorical_crossentropy',\r\n",
    "              metrics=['accuracy'])"
   ],
   "outputs": [],
   "metadata": {}
  },
  {
   "cell_type": "code",
   "execution_count": 15,
   "source": [
    "model.fit(train_images, train_labels, epochs=5)"
   ],
   "outputs": [
    {
     "output_type": "stream",
     "name": "stdout",
     "text": [
      "Epoch 1/5\n",
      "1875/1875 [==============================] - 2s 828us/step - loss: 0.5308 - accuracy: 0.8041\n",
      "Epoch 2/5\n",
      "1875/1875 [==============================] - 2s 813us/step - loss: 0.5255 - accuracy: 0.8048\n",
      "Epoch 3/5\n",
      "1875/1875 [==============================] - 1s 763us/step - loss: 0.5239 - accuracy: 0.8063\n",
      "Epoch 4/5\n",
      "1875/1875 [==============================] - 1s 750us/step - loss: 0.5222 - accuracy: 0.8073\n",
      "Epoch 5/5\n",
      "1875/1875 [==============================] - 1s 742us/step - loss: 0.5232 - accuracy: 0.8069\n"
     ]
    },
    {
     "output_type": "execute_result",
     "data": {
      "text/plain": [
       "<tensorflow.python.keras.callbacks.History at 0x2602a2151f0>"
      ]
     },
     "metadata": {},
     "execution_count": 15
    }
   ],
   "metadata": {}
  },
  {
   "cell_type": "code",
   "execution_count": 16,
   "source": [
    "test_loss, test_acc = model.evaluate(test_images,  test_labels, verbose=1) \r\n",
    "\r\n",
    "print('Test accuracy:', test_acc)"
   ],
   "outputs": [
    {
     "output_type": "stream",
     "name": "stdout",
     "text": [
      "313/313 [==============================] - 0s 549us/step - loss: 0.6196 - accuracy: 0.7920\n",
      "Test accuracy: 0.7919999957084656\n"
     ]
    }
   ],
   "metadata": {}
  },
  {
   "cell_type": "code",
   "execution_count": 17,
   "source": [
    "predictions = model.predict(test_images)"
   ],
   "outputs": [],
   "metadata": {}
  },
  {
   "cell_type": "code",
   "execution_count": 18,
   "source": [
    "np.argmax(predictions[0])"
   ],
   "outputs": [
    {
     "output_type": "execute_result",
     "data": {
      "text/plain": [
       "9"
      ]
     },
     "metadata": {},
     "execution_count": 18
    }
   ],
   "metadata": {}
  }
 ],
 "metadata": {
  "orig_nbformat": 4,
  "language_info": {
   "name": "python",
   "version": "3.8.9",
   "mimetype": "text/x-python",
   "codemirror_mode": {
    "name": "ipython",
    "version": 3
   },
   "pygments_lexer": "ipython3",
   "nbconvert_exporter": "python",
   "file_extension": ".py"
  },
  "kernelspec": {
   "name": "python3",
   "display_name": "Python 3.8.9 64-bit ('venv': venv)"
  },
  "interpreter": {
   "hash": "f016b1c2c13cbe80275b491810ad637fc67962aaed28f647fc3c826c4e53f3da"
  }
 },
 "nbformat": 4,
 "nbformat_minor": 2
}